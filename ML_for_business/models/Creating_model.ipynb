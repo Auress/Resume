{
 "cells": [
  {
   "cell_type": "markdown",
   "metadata": {},
   "source": [
    "### Итоговый проект курса \"Машинное обучение в бизнесе\""
   ]
  },
  {
   "cell_type": "markdown",
   "metadata": {},
   "source": [
    "### -- Автор: Шенк Евгений Станиславович"
   ]
  },
  {
   "cell_type": "code",
   "execution_count": 1,
   "metadata": {},
   "outputs": [],
   "source": [
    "import pandas as pd\n",
    "import dill\n",
    "import numpy as np\n",
    "from sklearn.model_selection import train_test_split\n",
    "from sklearn.base import BaseEstimator, TransformerMixin\n",
    "from sklearn.metrics import r2_score, mean_squared_error\n",
    "from sklearn.preprocessing import LabelEncoder\n",
    "from sklearn.model_selection import cross_val_score, GridSearchCV\n",
    "from sklearn.preprocessing import PolynomialFeatures\n",
    "import lightgbm as lgbm\n",
    "\n",
    "#pipeline\n",
    "from sklearn.pipeline import Pipeline, FeatureUnion\n",
    "#imputer\n",
    "from sklearn.impute import SimpleImputer"
   ]
  },
  {
   "cell_type": "code",
   "execution_count": 2,
   "metadata": {},
   "outputs": [
    {
     "data": {
      "text/html": [
       "<div>\n",
       "<style scoped>\n",
       "    .dataframe tbody tr th:only-of-type {\n",
       "        vertical-align: middle;\n",
       "    }\n",
       "\n",
       "    .dataframe tbody tr th {\n",
       "        vertical-align: top;\n",
       "    }\n",
       "\n",
       "    .dataframe thead th {\n",
       "        text-align: right;\n",
       "    }\n",
       "</style>\n",
       "<table border=\"1\" class=\"dataframe\">\n",
       "  <thead>\n",
       "    <tr style=\"text-align: right;\">\n",
       "      <th></th>\n",
       "      <th>id</th>\n",
       "      <th>molecule_name</th>\n",
       "      <th>atom_index_0</th>\n",
       "      <th>atom_index_1</th>\n",
       "      <th>type</th>\n",
       "      <th>scalar_coupling_constant</th>\n",
       "    </tr>\n",
       "  </thead>\n",
       "  <tbody>\n",
       "    <tr>\n",
       "      <th>0</th>\n",
       "      <td>0</td>\n",
       "      <td>dsgdb9nsd_000001</td>\n",
       "      <td>1</td>\n",
       "      <td>0</td>\n",
       "      <td>1JHC</td>\n",
       "      <td>84.8076</td>\n",
       "    </tr>\n",
       "    <tr>\n",
       "      <th>1</th>\n",
       "      <td>1</td>\n",
       "      <td>dsgdb9nsd_000001</td>\n",
       "      <td>1</td>\n",
       "      <td>2</td>\n",
       "      <td>2JHH</td>\n",
       "      <td>-11.2570</td>\n",
       "    </tr>\n",
       "    <tr>\n",
       "      <th>2</th>\n",
       "      <td>2</td>\n",
       "      <td>dsgdb9nsd_000001</td>\n",
       "      <td>1</td>\n",
       "      <td>3</td>\n",
       "      <td>2JHH</td>\n",
       "      <td>-11.2548</td>\n",
       "    </tr>\n",
       "  </tbody>\n",
       "</table>\n",
       "</div>"
      ],
      "text/plain": [
       "   id     molecule_name  atom_index_0  atom_index_1  type  \\\n",
       "0   0  dsgdb9nsd_000001             1             0  1JHC   \n",
       "1   1  dsgdb9nsd_000001             1             2  2JHH   \n",
       "2   2  dsgdb9nsd_000001             1             3  2JHH   \n",
       "\n",
       "   scalar_coupling_constant  \n",
       "0                   84.8076  \n",
       "1                  -11.2570  \n",
       "2                  -11.2548  "
      ]
     },
     "execution_count": 2,
     "metadata": {},
     "output_type": "execute_result"
    }
   ],
   "source": [
    "data = pd.read_csv('./train.csv')\n",
    "train = pd.read_csv('./train.csv')\n",
    "test = pd.read_csv('./test.csv')\n",
    "structures = pd.read_csv('./structures.csv')\n",
    "\n",
    "data.head(3)"
   ]
  },
  {
   "cell_type": "code",
   "execution_count": 3,
   "metadata": {},
   "outputs": [
    {
     "name": "stdout",
     "output_type": "stream",
     "text": [
      "<class 'pandas.core.frame.DataFrame'>\n",
      "RangeIndex: 4659076 entries, 0 to 4659075\n",
      "Data columns (total 6 columns):\n",
      " #   Column                    Dtype  \n",
      "---  ------                    -----  \n",
      " 0   id                        int64  \n",
      " 1   molecule_name             object \n",
      " 2   atom_index_0              int64  \n",
      " 3   atom_index_1              int64  \n",
      " 4   type                      object \n",
      " 5   scalar_coupling_constant  float64\n",
      "dtypes: float64(1), int64(3), object(2)\n",
      "memory usage: 213.3+ MB\n"
     ]
    }
   ],
   "source": [
    "data.info()"
   ]
  },
  {
   "cell_type": "code",
   "execution_count": 4,
   "metadata": {},
   "outputs": [
    {
     "data": {
      "text/html": [
       "<div>\n",
       "<style scoped>\n",
       "    .dataframe tbody tr th:only-of-type {\n",
       "        vertical-align: middle;\n",
       "    }\n",
       "\n",
       "    .dataframe tbody tr th {\n",
       "        vertical-align: top;\n",
       "    }\n",
       "\n",
       "    .dataframe thead th {\n",
       "        text-align: right;\n",
       "    }\n",
       "</style>\n",
       "<table border=\"1\" class=\"dataframe\">\n",
       "  <thead>\n",
       "    <tr style=\"text-align: right;\">\n",
       "      <th></th>\n",
       "      <th>molecule_name</th>\n",
       "      <th>atom_index</th>\n",
       "      <th>atom</th>\n",
       "      <th>x</th>\n",
       "      <th>y</th>\n",
       "      <th>z</th>\n",
       "    </tr>\n",
       "  </thead>\n",
       "  <tbody>\n",
       "    <tr>\n",
       "      <th>0</th>\n",
       "      <td>dsgdb9nsd_000001</td>\n",
       "      <td>0</td>\n",
       "      <td>C</td>\n",
       "      <td>-0.012698</td>\n",
       "      <td>1.085804</td>\n",
       "      <td>0.008001</td>\n",
       "    </tr>\n",
       "    <tr>\n",
       "      <th>1</th>\n",
       "      <td>dsgdb9nsd_000001</td>\n",
       "      <td>1</td>\n",
       "      <td>H</td>\n",
       "      <td>0.002150</td>\n",
       "      <td>-0.006031</td>\n",
       "      <td>0.001976</td>\n",
       "    </tr>\n",
       "    <tr>\n",
       "      <th>2</th>\n",
       "      <td>dsgdb9nsd_000001</td>\n",
       "      <td>2</td>\n",
       "      <td>H</td>\n",
       "      <td>1.011731</td>\n",
       "      <td>1.463751</td>\n",
       "      <td>0.000277</td>\n",
       "    </tr>\n",
       "  </tbody>\n",
       "</table>\n",
       "</div>"
      ],
      "text/plain": [
       "      molecule_name  atom_index atom         x         y         z\n",
       "0  dsgdb9nsd_000001           0    C -0.012698  1.085804  0.008001\n",
       "1  dsgdb9nsd_000001           1    H  0.002150 -0.006031  0.001976\n",
       "2  dsgdb9nsd_000001           2    H  1.011731  1.463751  0.000277"
      ]
     },
     "execution_count": 4,
     "metadata": {},
     "output_type": "execute_result"
    }
   ],
   "source": [
    "structures.head(3)"
   ]
  },
  {
   "cell_type": "code",
   "execution_count": 5,
   "metadata": {},
   "outputs": [],
   "source": [
    "target = data['scalar_coupling_constant']"
   ]
  },
  {
   "cell_type": "code",
   "execution_count": 6,
   "metadata": {},
   "outputs": [
    {
     "name": "stdout",
     "output_type": "stream",
     "text": [
      "4659076 rows in train data.\n",
      "85012 distinct molecules in train data.\n",
      "5 unique atoms.\n",
      "8 unique types.\n"
     ]
    }
   ],
   "source": [
    "print(f'{data.shape[0]} rows in train data.')\n",
    "\n",
    "print(f\"{data['molecule_name'].nunique()} distinct molecules in train data.\")\n",
    "print(f\"{structures['atom'].nunique()} unique atoms.\")\n",
    "print(f\"{data['type'].nunique()} unique types.\")"
   ]
  },
  {
   "cell_type": "code",
   "execution_count": 7,
   "metadata": {},
   "outputs": [],
   "source": [
    "X_train, X_test, y_train, y_test = train_test_split(train.drop(columns=['scalar_coupling_constant'], axis=1), target, test_size=0.25, random_state=2177)"
   ]
  },
  {
   "cell_type": "markdown",
   "metadata": {},
   "source": [
    "### Feature engineering"
   ]
  },
  {
   "cell_type": "code",
   "execution_count": 8,
   "metadata": {},
   "outputs": [],
   "source": [
    "def map_atom_info(df, atom_idx):\n",
    "    df = pd.merge(df, structures, how = 'left',\n",
    "                  left_on  = ['molecule_name', f'atom_index_{atom_idx}'],\n",
    "                  right_on = ['molecule_name',  'atom_index'])\n",
    "    \n",
    "    df = df.drop('atom_index', axis=1)\n",
    "    df = df.rename(columns={'atom': f'atom_{atom_idx}',\n",
    "                            'x': f'x_{atom_idx}',\n",
    "                            'y': f'y_{atom_idx}',\n",
    "                            'z': f'z_{atom_idx}'})\n",
    "    return df"
   ]
  },
  {
   "cell_type": "code",
   "execution_count": 9,
   "metadata": {},
   "outputs": [],
   "source": [
    "data = map_atom_info(data, 0)\n",
    "data = map_atom_info(data, 1)"
   ]
  },
  {
   "cell_type": "code",
   "execution_count": 10,
   "metadata": {},
   "outputs": [],
   "source": [
    "data_p_0 = data[['x_0', 'y_0', 'z_0']].values\n",
    "data_p_1 = data[['x_1', 'y_1', 'z_1']].values\n",
    "\n",
    "data['dist'] = np.linalg.norm(data_p_0 - data_p_1, axis=1)\n",
    "\n",
    "data['dist_x'] = (data['x_0'] - data['x_1']) ** 2\n",
    "data['dist_y'] = (data['y_0'] - data['y_1']) ** 2\n",
    "data['dist_z'] = (data['z_0'] - data['z_1']) ** 2"
   ]
  },
  {
   "cell_type": "code",
   "execution_count": 11,
   "metadata": {},
   "outputs": [],
   "source": [
    "data['type_0'] = data['type'].apply(lambda x: x[0])\n",
    "data['type_1'] = data['type'].apply(lambda x: x[1:])"
   ]
  },
  {
   "cell_type": "markdown",
   "metadata": {},
   "source": [
    "### Encoder"
   ]
  },
  {
   "cell_type": "code",
   "execution_count": 12,
   "metadata": {},
   "outputs": [],
   "source": [
    "# Data encoding\n",
    "labelencoder = LabelEncoder()\n",
    "features = ['atom_0', 'atom_1', 'type_0', 'type_1', 'type']\n",
    "for f in features:\n",
    "    labelencoder.fit(list(data[f].values))\n",
    "    data[f] = labelencoder.transform(list(data[f].values))\n",
    "    np.save(f'classes_{f}.npy', labelencoder.classes_)"
   ]
  },
  {
   "cell_type": "markdown",
   "metadata": {},
   "source": [
    "### Model - LGBMRegressor"
   ]
  },
  {
   "cell_type": "code",
   "execution_count": 13,
   "metadata": {},
   "outputs": [],
   "source": [
    "X1_train, X1_test, y1_train, y1_test = train_test_split(data.drop(columns=['scalar_coupling_constant'], axis=1), target, test_size=0.25, random_state=2177)"
   ]
  },
  {
   "cell_type": "code",
   "execution_count": 14,
   "metadata": {},
   "outputs": [],
   "source": [
    "imp_features = ['atom_index_0', 'atom_index_1', 'type', 'atom_0', 'x_0', 'y_0', 'z_0', 'atom_1', 'x_1', 'y_1', 'z_1', 'dist', 'dist_x', 'dist_y', 'dist_z', 'type_0', 'type_1']"
   ]
  },
  {
   "cell_type": "code",
   "execution_count": 15,
   "metadata": {},
   "outputs": [],
   "source": [
    "model = lgbm.LGBMRegressor(learning_rate=0.1,\n",
    "                    n_estimators=500,\n",
    "                    num_leaves=128,\n",
    "                    reg_alpha=0.1,\n",
    "                    reg_lambda=0.1)"
   ]
  },
  {
   "cell_type": "code",
   "execution_count": 16,
   "metadata": {},
   "outputs": [
    {
     "name": "stdout",
     "output_type": "stream",
     "text": [
      "Wall time: 41.2 s\n"
     ]
    },
    {
     "data": {
      "text/plain": [
       "LGBMRegressor(n_estimators=500, num_leaves=128, reg_alpha=0.1, reg_lambda=0.1)"
      ]
     },
     "execution_count": 16,
     "metadata": {},
     "output_type": "execute_result"
    }
   ],
   "source": [
    "%%time\n",
    "model.fit(X1_train[imp_features], y1_train) "
   ]
  },
  {
   "cell_type": "code",
   "execution_count": 17,
   "metadata": {},
   "outputs": [],
   "source": [
    "pred = model.predict(X1_test[imp_features])"
   ]
  },
  {
   "cell_type": "code",
   "execution_count": 18,
   "metadata": {},
   "outputs": [
    {
     "data": {
      "text/plain": [
       "0.9907120792849257"
      ]
     },
     "execution_count": 18,
     "metadata": {},
     "output_type": "execute_result"
    }
   ],
   "source": [
    "scores = cross_val_score(model, X1_train[imp_features], y1_train, cv=3, scoring='r2')\n",
    "scores.mean()"
   ]
  },
  {
   "cell_type": "code",
   "execution_count": 19,
   "metadata": {},
   "outputs": [
    {
     "data": {
      "text/plain": [
       "0.990676619045612"
      ]
     },
     "execution_count": 19,
     "metadata": {},
     "output_type": "execute_result"
    }
   ],
   "source": [
    "r2_score(y1_test, pred)"
   ]
  },
  {
   "cell_type": "markdown",
   "metadata": {},
   "source": [
    "### Pipeline"
   ]
  },
  {
   "cell_type": "code",
   "execution_count": 20,
   "metadata": {},
   "outputs": [],
   "source": [
    "class ColumnSelector(BaseEstimator, TransformerMixin):\n",
    "    \"\"\"\n",
    "    Transformer to select a single column from the data frame to perform additional transformations on\n",
    "    \"\"\"\n",
    "    def __init__(self, key):\n",
    "        self.key = key\n",
    "\n",
    "    def fit(self, X, y=None):\n",
    "        return self\n",
    "\n",
    "    def transform(self, X):\n",
    "        return X[self.key]\n",
    "    \n",
    "class NumberSelector(BaseEstimator, TransformerMixin):\n",
    "    \"\"\"\n",
    "    Transformer to select a single column from the data frame to perform additional transformations on\n",
    "    Use on numeric columns in the data\n",
    "    \"\"\"\n",
    "    def __init__(self, key):\n",
    "        self.key = key\n",
    "\n",
    "    def fit(self, X, y=None):\n",
    "        return self\n",
    "\n",
    "    def transform(self, X):\n",
    "        return X[[self.key]]\n",
    "    \n",
    "class OHEEncoder(BaseEstimator, TransformerMixin):\n",
    "    def __init__(self, key):\n",
    "        self.key = key\n",
    "        self.columns = []\n",
    "\n",
    "    def fit(self, X, y=None):\n",
    "        self.columns = [col for col in pd.get_dummies(X, prefix=self.key).columns]\n",
    "        return self\n",
    "\n",
    "    def transform(self, X):\n",
    "        X = pd.get_dummies(X, prefix=self.key)\n",
    "        test_columns = [col for col in X.columns]\n",
    "        for col_ in test_columns:\n",
    "            if col_ not in self.columns:\n",
    "                X[col_] = 0\n",
    "        return X[self.columns]\n",
    "\n",
    "class L_Encoder(BaseEstimator, TransformerMixin):\n",
    "    def __init__(self, key):\n",
    "        self.key = key\n",
    "        self.columns = []\n",
    "\n",
    "    def fit(self, X, y=None):\n",
    "        self.columns = X.name\n",
    "        return self\n",
    "\n",
    "    def transform(self, X):\n",
    "        labelencoder = LabelEncoder()\n",
    "        labelencoder.classes_ = np.load('classes.npy', allow_pickle=True)\n",
    "        \n",
    "        X = labelencoder.fit_transform(X)\n",
    "        return pd.DataFrame(data=X, columns=[self.columns])\n",
    "    \n",
    "class FeatureSelector(BaseEstimator, TransformerMixin):\n",
    "    def __init__( self, feature_names ):\n",
    "        self._feature_names = feature_names \n",
    "  \n",
    "    def fit( self, X, y = None ):\n",
    "        return self \n",
    "\n",
    "    def transform( self, X, y = None ):\n",
    "        return X[self._feature_names] \n",
    "    \n",
    "class Feat_eng_pipe(BaseEstimator, TransformerMixin):\n",
    "    def __init__(self):\n",
    "        self.columns = []\n",
    "    \n",
    "    def fit(self, X, y=None):\n",
    "        return self\n",
    "    \n",
    "    def map_atom_info(self, df, structures, atom_idx):\n",
    "        df = pd.merge(df, structures, how = 'left',\n",
    "                      left_on  = ['molecule_name', f'atom_index_{atom_idx}'],\n",
    "                      right_on = ['molecule_name',  'atom_index'])\n",
    "\n",
    "        df = df.drop('atom_index', axis=1)\n",
    "        df = df.rename(columns={'atom': f'atom_{atom_idx}',\n",
    "                                'x': f'x_{atom_idx}',\n",
    "                                'y': f'y_{atom_idx}',\n",
    "                                'z': f'z_{atom_idx}'})\n",
    "        return df\n",
    "    \n",
    "    def Load_structures(self):\n",
    "        path = ['./models/structures.csv', './structures.csv']\n",
    "        structures_load = None\n",
    "        for p in path:\n",
    "            try:\n",
    "                structures_load = pd.read_csv(p)\n",
    "                break\n",
    "            except:\n",
    "                continue\n",
    "        return structures_load\n",
    "    \n",
    "    def Load_encoder_classes(self, feature):\n",
    "        path = [f'./models/classes_{feature}.npy', f'./classes_{feature}.npy']\n",
    "        cls = None\n",
    "        for p in path:\n",
    "            try:\n",
    "                cls = np.load(p, allow_pickle=True)\n",
    "                break\n",
    "            except:\n",
    "                continue\n",
    "        return cls\n",
    "    \n",
    "    def transform( self, X, y = None ):\n",
    "        import numpy as np\n",
    "        import pandas as pd\n",
    "        \n",
    "        structures = self.Load_structures()\n",
    "        X = self.map_atom_info(X, structures, 0)\n",
    "        X = self.map_atom_info(X, structures, 1)\n",
    "        \n",
    "        X_p_0 = X[['x_0', 'y_0', 'z_0']].values\n",
    "        X_p_1 = X[['x_1', 'y_1', 'z_1']].values\n",
    "\n",
    "        X['dist'] = np.linalg.norm(X_p_0 - X_p_1, axis=1)\n",
    "        X['dist_x'] = (X['x_0'] - X['x_1']) ** 2\n",
    "        X['dist_y'] = (X['y_0'] - X['y_1']) ** 2\n",
    "        X['dist_z'] = (X['z_0'] - X['z_1']) ** 2\n",
    "        \n",
    "        X['type_0'] = X['type'].apply(lambda x: x[0])\n",
    "        X['type_1'] = X['type'].apply(lambda x: x[1:])\n",
    "        \n",
    "        from sklearn.preprocessing import LabelEncoder\n",
    "        \n",
    "        features = ['atom_0', 'atom_1', 'type_0', 'type_1', 'type']\n",
    "        for f in features:\n",
    "            labelencoder = LabelEncoder()\n",
    "            labelencoder.classes_ = self.Load_encoder_classes(feature=f)\n",
    "            X[f] = labelencoder.transform(list(X[f].values))\n",
    "        \n",
    "        feat = ['type', 'atom_0', 'x_0', 'y_0', 'z_0', 'atom_1', 'x_1', 'y_1', 'z_1', 'dist', 'dist_x', 'dist_y', 'dist_z', 'type_0', 'type_1']\n",
    "        return X[feat]"
   ]
  },
  {
   "cell_type": "code",
   "execution_count": 21,
   "metadata": {},
   "outputs": [],
   "source": [
    "imp_features = ['atom_index_0', 'atom_index_1', 'type', 'atom_0', 'x_0', 'y_0', 'z_0', 'atom_1', 'x_1', 'y_1', 'z_1', 'dist', 'dist_x', 'dist_y', 'dist_z', 'type_0', 'type_1']"
   ]
  },
  {
   "cell_type": "code",
   "execution_count": 22,
   "metadata": {},
   "outputs": [],
   "source": [
    "no_enc_features = ['atom_index_0', 'atom_index_1']"
   ]
  },
  {
   "cell_type": "code",
   "execution_count": 23,
   "metadata": {},
   "outputs": [],
   "source": [
    "f_selector = Pipeline([\n",
    "                ('f_selector', FeatureSelector(no_enc_features))])\n",
    "\n",
    "f_eng_pipe = Pipeline([\n",
    "                ('Feat_eng_pipe', Feat_eng_pipe())\n",
    "                ])"
   ]
  },
  {
   "cell_type": "code",
   "execution_count": 24,
   "metadata": {},
   "outputs": [
    {
     "data": {
      "text/plain": [
       "array([[16.        , 17.        ,  3.        , ...,  2.80680317,\n",
       "         1.        ,  1.        ],\n",
       "       [ 9.        ,  7.        ,  5.        , ...,  0.39189991,\n",
       "         2.        ,  0.        ],\n",
       "       [18.        ,  8.        ,  2.        , ...,  0.04919705,\n",
       "         1.        ,  0.        ],\n",
       "       ...,\n",
       "       [12.        ,  0.        ,  2.        , ...,  0.24354726,\n",
       "         1.        ,  0.        ],\n",
       "       [14.        ,  3.        ,  2.        , ...,  3.41186882,\n",
       "         1.        ,  0.        ],\n",
       "       [ 9.        , 11.        ,  3.        , ...,  1.1969371 ,\n",
       "         1.        ,  1.        ]])"
      ]
     },
     "execution_count": 24,
     "metadata": {},
     "output_type": "execute_result"
    }
   ],
   "source": [
    "feats = FeatureUnion([('f_selector', f_selector),\n",
    "                    ('f_eng_pipe', f_eng_pipe)])\n",
    "\n",
    "feature_processing = Pipeline([('feats', feats)])\n",
    "feature_processing.fit_transform(X_train)"
   ]
  },
  {
   "cell_type": "code",
   "execution_count": 25,
   "metadata": {},
   "outputs": [
    {
     "name": "stdout",
     "output_type": "stream",
     "text": [
      "Wall time: 3min 58s\n"
     ]
    },
    {
     "data": {
      "text/plain": [
       "0.9896726280263306"
      ]
     },
     "execution_count": 25,
     "metadata": {},
     "output_type": "execute_result"
    }
   ],
   "source": [
    "%%time\n",
    "pipeline = Pipeline([\n",
    "    ('features', feats),\n",
    "    ('regressor', lgbm.LGBMRegressor(learning_rate=0.01,\n",
    "                                    n_estimators=1500,\n",
    "                                    num_leaves=128,\n",
    "                                    reg_alpha=0.1,\n",
    "                                    reg_lambda=0.1)),\n",
    "])\n",
    "\n",
    "pipeline.fit(X_train, y_train)\n",
    "\n",
    "pred = pipeline.predict(X_test)\n",
    "r2_score(y_test, pred)"
   ]
  },
  {
   "cell_type": "code",
   "execution_count": null,
   "metadata": {},
   "outputs": [],
   "source": []
  },
  {
   "cell_type": "code",
   "execution_count": 26,
   "metadata": {},
   "outputs": [],
   "source": [
    "with open(\"Course_pipeline.dill\", \"wb\") as f:\n",
    "    dill.dump(pipeline, f)"
   ]
  },
  {
   "cell_type": "code",
   "execution_count": null,
   "metadata": {},
   "outputs": [],
   "source": []
  }
 ],
 "metadata": {
  "kernelspec": {
   "display_name": "Python 3",
   "language": "python",
   "name": "python3"
  },
  "language_info": {
   "codemirror_mode": {
    "name": "ipython",
    "version": 3
   },
   "file_extension": ".py",
   "mimetype": "text/x-python",
   "name": "python",
   "nbconvert_exporter": "python",
   "pygments_lexer": "ipython3",
   "version": "3.7.7"
  }
 },
 "nbformat": 4,
 "nbformat_minor": 2
}
